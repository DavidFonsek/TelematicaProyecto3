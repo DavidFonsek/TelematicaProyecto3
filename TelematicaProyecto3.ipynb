{
  "nbformat": 4,
  "nbformat_minor": 0,
  "metadata": {
    "colab": {
      "provenance": []
    },
    "kernelspec": {
      "name": "python3",
      "display_name": "Python 3"
    },
    "language_info": {
      "name": "python"
    }
  },
  "cells": [
    {
      "cell_type": "code",
      "execution_count": 1,
      "metadata": {
        "colab": {
          "base_uri": "https://localhost:8080/"
        },
        "id": "qhw1OkbRSfUw",
        "outputId": "ea0f8f1e-5b7d-4a94-89a6-9e83218befb6"
      },
      "outputs": [
        {
          "output_type": "stream",
          "name": "stdout",
          "text": [
            "/content\n"
          ]
        }
      ],
      "source": [
        "!pwd"
      ]
    },
    {
      "cell_type": "code",
      "source": [
        "!pip install boto3"
      ],
      "metadata": {
        "colab": {
          "base_uri": "https://localhost:8080/"
        },
        "id": "oj4NAxhGT1Xp",
        "outputId": "076552c0-28e6-42ab-e591-3ddb11b09e9d"
      },
      "execution_count": 2,
      "outputs": [
        {
          "output_type": "stream",
          "name": "stdout",
          "text": [
            "Collecting boto3\n",
            "  Downloading boto3-1.34.116-py3-none-any.whl (139 kB)\n",
            "\u001b[2K     \u001b[90m━━━━━━━━━━━━━━━━━━━━━━━━━━━━━━━━━━━━━━━━\u001b[0m \u001b[32m139.3/139.3 kB\u001b[0m \u001b[31m1.6 MB/s\u001b[0m eta \u001b[36m0:00:00\u001b[0m\n",
            "\u001b[?25hCollecting botocore<1.35.0,>=1.34.116 (from boto3)\n",
            "  Downloading botocore-1.34.116-py3-none-any.whl (12.3 MB)\n",
            "\u001b[2K     \u001b[90m━━━━━━━━━━━━━━━━━━━━━━━━━━━━━━━━━━━━━━━━\u001b[0m \u001b[32m12.3/12.3 MB\u001b[0m \u001b[31m26.9 MB/s\u001b[0m eta \u001b[36m0:00:00\u001b[0m\n",
            "\u001b[?25hCollecting jmespath<2.0.0,>=0.7.1 (from boto3)\n",
            "  Downloading jmespath-1.0.1-py3-none-any.whl (20 kB)\n",
            "Collecting s3transfer<0.11.0,>=0.10.0 (from boto3)\n",
            "  Downloading s3transfer-0.10.1-py3-none-any.whl (82 kB)\n",
            "\u001b[2K     \u001b[90m━━━━━━━━━━━━━━━━━━━━━━━━━━━━━━━━━━━━━━━━\u001b[0m \u001b[32m82.2/82.2 kB\u001b[0m \u001b[31m5.6 MB/s\u001b[0m eta \u001b[36m0:00:00\u001b[0m\n",
            "\u001b[?25hRequirement already satisfied: python-dateutil<3.0.0,>=2.1 in /usr/local/lib/python3.10/dist-packages (from botocore<1.35.0,>=1.34.116->boto3) (2.8.2)\n",
            "Requirement already satisfied: urllib3!=2.2.0,<3,>=1.25.4 in /usr/local/lib/python3.10/dist-packages (from botocore<1.35.0,>=1.34.116->boto3) (2.0.7)\n",
            "Requirement already satisfied: six>=1.5 in /usr/local/lib/python3.10/dist-packages (from python-dateutil<3.0.0,>=2.1->botocore<1.35.0,>=1.34.116->boto3) (1.16.0)\n",
            "Installing collected packages: jmespath, botocore, s3transfer, boto3\n",
            "Successfully installed boto3-1.34.116 botocore-1.34.116 jmespath-1.0.1 s3transfer-0.10.1\n"
          ]
        }
      ]
    },
    {
      "cell_type": "code",
      "source": [
        "!pip install spark\n",
        "!pip install pyspark"
      ],
      "metadata": {
        "colab": {
          "base_uri": "https://localhost:8080/"
        },
        "id": "tMI7OuxyUDua",
        "outputId": "352103c5-4296-48fc-a1ef-ce20fbebef6c"
      },
      "execution_count": 4,
      "outputs": [
        {
          "output_type": "stream",
          "name": "stdout",
          "text": [
            "Collecting spark\n",
            "  Downloading spark-0.2.1.tar.gz (41 kB)\n",
            "\u001b[2K     \u001b[90m━━━━━━━━━━━━━━━━━━━━━━━━━━━━━━━━━━━━━━━━\u001b[0m \u001b[32m41.0/41.0 kB\u001b[0m \u001b[31m796.5 kB/s\u001b[0m eta \u001b[36m0:00:00\u001b[0m\n",
            "\u001b[?25h  Preparing metadata (setup.py) ... \u001b[?25l\u001b[?25hdone\n",
            "Building wheels for collected packages: spark\n",
            "  Building wheel for spark (setup.py) ... \u001b[?25l\u001b[?25hdone\n",
            "  Created wheel for spark: filename=spark-0.2.1-py3-none-any.whl size=58749 sha256=d05d2bf17cd75e2e174780e81e5199ad29a724a043c34562c584ffe917a762fd\n",
            "  Stored in directory: /root/.cache/pip/wheels/63/88/77/b4131110ea4094540f7b47c6d62a649807d7e94800da5eab0b\n",
            "Successfully built spark\n",
            "Installing collected packages: spark\n",
            "Successfully installed spark-0.2.1\n",
            "Collecting pyspark\n",
            "  Downloading pyspark-3.5.1.tar.gz (317.0 MB)\n",
            "\u001b[2K     \u001b[90m━━━━━━━━━━━━━━━━━━━━━━━━━━━━━━━━━━━━━━━━\u001b[0m \u001b[32m317.0/317.0 MB\u001b[0m \u001b[31m4.6 MB/s\u001b[0m eta \u001b[36m0:00:00\u001b[0m\n",
            "\u001b[?25h  Preparing metadata (setup.py) ... \u001b[?25l\u001b[?25hdone\n",
            "Requirement already satisfied: py4j==0.10.9.7 in /usr/local/lib/python3.10/dist-packages (from pyspark) (0.10.9.7)\n",
            "Building wheels for collected packages: pyspark\n",
            "  Building wheel for pyspark (setup.py) ... \u001b[?25l\u001b[?25hdone\n",
            "  Created wheel for pyspark: filename=pyspark-3.5.1-py2.py3-none-any.whl size=317488491 sha256=2ff3c8fbcbd0112256edc1d7acd1b63280b2213b5e34ab269e081beaf7b30e4f\n",
            "  Stored in directory: /root/.cache/pip/wheels/80/1d/60/2c256ed38dddce2fdd93be545214a63e02fbd8d74fb0b7f3a6\n",
            "Successfully built pyspark\n",
            "Installing collected packages: pyspark\n",
            "Successfully installed pyspark-3.5.1\n"
          ]
        }
      ]
    },
    {
      "cell_type": "code",
      "source": [
        "#import SparkSession\n",
        "from pyspark.sql import SparkSession"
      ],
      "metadata": {
        "id": "Izp1xh3WbWxF"
      },
      "execution_count": 5,
      "outputs": []
    },
    {
      "cell_type": "code",
      "source": [
        "#create spar session object\n",
        "spark=SparkSession.builder.appName('data_processing').getOrCreate()"
      ],
      "metadata": {
        "id": "U66Otumqbf1m"
      },
      "execution_count": 6,
      "outputs": []
    },
    {
      "cell_type": "code",
      "source": [
        "from google.colab import drive\n",
        "drive.mount('/content/gdrive')"
      ],
      "metadata": {
        "colab": {
          "base_uri": "https://localhost:8080/"
        },
        "id": "2Lss5VBFgYyJ",
        "outputId": "a615e65d-3d89-4ab4-dfb3-3d6049f4579e"
      },
      "execution_count": 7,
      "outputs": [
        {
          "output_type": "stream",
          "name": "stdout",
          "text": [
            "Mounted at /content/gdrive\n"
          ]
        }
      ]
    },
    {
      "cell_type": "code",
      "source": [
        "df = spark.read.csv('/content/gdrive/MyDrive/Casos_positivos_de_COVID-19_en_Colombia..csv', inferSchema=True, header=True)"
      ],
      "metadata": {
        "id": "u5FZHF3WlJYT"
      },
      "execution_count": 8,
      "outputs": []
    },
    {
      "cell_type": "code",
      "source": [
        "# 2.1 Mostrar columnas\n",
        "print(\"Columnas del DataFrame:\", df.columns)"
      ],
      "metadata": {
        "colab": {
          "base_uri": "https://localhost:8080/"
        },
        "id": "Spn7XgZno22H",
        "outputId": "2752f2ac-753a-4ac5-b5c2-e7aac8cc63e1"
      },
      "execution_count": 9,
      "outputs": [
        {
          "output_type": "stream",
          "name": "stdout",
          "text": [
            "Columnas del DataFrame: ['fecha reporte web', 'ID de caso', 'Fecha de notificación', 'Código DIVIPOLA departamento', 'Nombre departamento', 'Código DIVIPOLA municipio', 'Nombre municipio', 'Edad', 'Unidad de medida de edad', 'Sexo', 'Tipo de contagio', 'Ubicación del caso', 'Estado', 'Código ISO del país', 'Nombre del país', 'Recuperado', 'Fecha de inicio de síntomas', 'Fecha de muerte', 'Fecha de diagnóstico', 'Fecha de recuperación', 'Tipo de recuperación', 'Pertenencia étnica', 'Nombre del grupo étnico']\n"
          ]
        }
      ]
    },
    {
      "cell_type": "code",
      "source": [
        "# 2.2 Ver tipo de datos\n",
        "df.printSchema()"
      ],
      "metadata": {
        "colab": {
          "base_uri": "https://localhost:8080/"
        },
        "id": "TGQu2IazqiSK",
        "outputId": "138e6b58-27c5-41f8-fc3a-c43b8a83f6af"
      },
      "execution_count": 10,
      "outputs": [
        {
          "output_type": "stream",
          "name": "stdout",
          "text": [
            "root\n",
            " |-- fecha reporte web: timestamp (nullable = true)\n",
            " |-- ID de caso: integer (nullable = true)\n",
            " |-- Fecha de notificación: timestamp (nullable = true)\n",
            " |-- Código DIVIPOLA departamento: integer (nullable = true)\n",
            " |-- Nombre departamento: string (nullable = true)\n",
            " |-- Código DIVIPOLA municipio: integer (nullable = true)\n",
            " |-- Nombre municipio: string (nullable = true)\n",
            " |-- Edad: integer (nullable = true)\n",
            " |-- Unidad de medida de edad: integer (nullable = true)\n",
            " |-- Sexo: string (nullable = true)\n",
            " |-- Tipo de contagio: string (nullable = true)\n",
            " |-- Ubicación del caso: string (nullable = true)\n",
            " |-- Estado: string (nullable = true)\n",
            " |-- Código ISO del país: integer (nullable = true)\n",
            " |-- Nombre del país: string (nullable = true)\n",
            " |-- Recuperado: string (nullable = true)\n",
            " |-- Fecha de inicio de síntomas: timestamp (nullable = true)\n",
            " |-- Fecha de muerte: timestamp (nullable = true)\n",
            " |-- Fecha de diagnóstico: timestamp (nullable = true)\n",
            " |-- Fecha de recuperación: timestamp (nullable = true)\n",
            " |-- Tipo de recuperación: string (nullable = true)\n",
            " |-- Pertenencia étnica: integer (nullable = true)\n",
            " |-- Nombre del grupo étnico: string (nullable = true)\n",
            "\n"
          ]
        }
      ]
    },
    {
      "cell_type": "code",
      "source": [
        "# 2.3 Seleccionar algunas columnas\n",
        "df_selected = df.select('Sexo', 'Fecha de muerte')\n",
        "df_selected.show()\n"
      ],
      "metadata": {
        "colab": {
          "base_uri": "https://localhost:8080/"
        },
        "id": "fOaMPyTxqx5c",
        "outputId": "893dcd37-da71-4194-97ca-d56203508696"
      },
      "execution_count": 11,
      "outputs": [
        {
          "output_type": "stream",
          "name": "stdout",
          "text": [
            "+----+-------------------+\n",
            "|Sexo|    Fecha de muerte|\n",
            "+----+-------------------+\n",
            "|   F|               NULL|\n",
            "|   F|               NULL|\n",
            "|   F|               NULL|\n",
            "|   F|2020-12-30 00:00:00|\n",
            "|   F|               NULL|\n",
            "|   F|               NULL|\n",
            "|   F|               NULL|\n",
            "|   F|2020-12-26 00:00:00|\n",
            "|   F|               NULL|\n",
            "|   F|               NULL|\n",
            "|   F|               NULL|\n",
            "|   F|               NULL|\n",
            "|   F|               NULL|\n",
            "|   F|               NULL|\n",
            "|   F|               NULL|\n",
            "|   M|               NULL|\n",
            "|   M|               NULL|\n",
            "|   F|               NULL|\n",
            "|   F|               NULL|\n",
            "|   F|2020-11-11 00:00:00|\n",
            "+----+-------------------+\n",
            "only showing top 20 rows\n",
            "\n"
          ]
        }
      ]
    },
    {
      "cell_type": "code",
      "source": [
        "# 2.4 Renombrar columnas\n",
        "df_renamed = df \\\n",
        "    .withColumnRenamed('fecha reporte web', 'fecha_reporte') \\\n",
        "    .withColumnRenamed('ID de caso', 'id_caso') \\\n",
        "    .withColumnRenamed('Fecha de notificación', 'fecha_notificacion') \\\n",
        "    .withColumnRenamed('Código DIVIPOLA departamento', 'codigo_departamento') \\\n",
        "    .withColumnRenamed('Nombre departamento', 'nombre_departamento') \\\n",
        "    .withColumnRenamed('Código DIVIPOLA municipio', 'codigo_municipio') \\\n",
        "    .withColumnRenamed('Nombre municipio', 'nombre_municipio') \\\n",
        "    .withColumnRenamed('Unidad de medida de edad', 'unidad_medida_edad') \\\n",
        "    .withColumnRenamed('Tipo de contagio', 'tipo_contagio') \\\n",
        "    .withColumnRenamed('Ubicación del caso', 'ubicacion_caso') \\\n",
        "    .withColumnRenamed('Código ISO del país', 'codigo_iso_pais') \\\n",
        "    .withColumnRenamed('Nombre del país', 'nombre_pais') \\\n",
        "    .withColumnRenamed('Fecha de inicio de síntomas', 'fecha_inicio_sintomas') \\\n",
        "    .withColumnRenamed('Fecha de muerte', 'fecha_muerte') \\\n",
        "    .withColumnRenamed('Fecha de diagnóstico', 'fecha_diagnostico') \\\n",
        "    .withColumnRenamed('Fecha de recuperación', 'fecha_recuperacion') \\\n",
        "    .withColumnRenamed('Tipo de recuperación', 'tipo_recuperacion') \\\n",
        "    .withColumnRenamed('Pertenencia étnica', 'pertenencia_etnica') \\\n",
        "    .withColumnRenamed('Nombre del grupo étnico', 'nombre_grupo_etnico')\n",
        "\n",
        "df_renamed.show()\n"
      ],
      "metadata": {
        "colab": {
          "base_uri": "https://localhost:8080/"
        },
        "id": "tH0aYQTarho-",
        "outputId": "aa389c5c-a4cf-4413-b415-11ab239aa5e4"
      },
      "execution_count": 12,
      "outputs": [
        {
          "output_type": "stream",
          "name": "stdout",
          "text": [
            "+-------------------+-------+-------------------+-------------------+-------------------+----------------+----------------+----+------------------+----+-------------+--------------+---------+---------------+-----------+----------+---------------------+-------------------+-------------------+-------------------+-----------------+------------------+-------------------+\n",
            "|      fecha_reporte|id_caso| fecha_notificacion|codigo_departamento|nombre_departamento|codigo_municipio|nombre_municipio|Edad|unidad_medida_edad|Sexo|tipo_contagio|ubicacion_caso|   Estado|codigo_iso_pais|nombre_pais|Recuperado|fecha_inicio_sintomas|       fecha_muerte|  fecha_diagnostico| fecha_recuperacion|tipo_recuperacion|pertenencia_etnica|nombre_grupo_etnico|\n",
            "+-------------------+-------+-------------------+-------------------+-------------------+----------------+----------------+----+------------------+----+-------------+--------------+---------+---------------+-----------+----------+---------------------+-------------------+-------------------+-------------------+-----------------+------------------+-------------------+\n",
            "|2020-12-24 00:00:00|1556979|2020-12-22 00:00:00|                 76|              VALLE|           76001|            CALI|  67|                 1|   F|  Comunitaria|          Casa|     Leve|           NULL|       NULL|Recuperado|  2020-12-21 00:00:00|               NULL|2020-12-23 00:00:00|2021-01-04 00:00:00|           Tiempo|                 6|               NULL|\n",
            "|2020-12-24 00:00:00|1556980|2020-12-19 00:00:00|                 76|              VALLE|           76001|            CALI|  66|                 1|   F|  Comunitaria|          Casa|     Leve|           NULL|       NULL|Recuperado|  2020-12-07 00:00:00|               NULL|2020-12-23 00:00:00|2020-12-25 00:00:00|           Tiempo|                 6|               NULL|\n",
            "|2020-12-24 00:00:00|1556981|2020-12-19 00:00:00|                 76|              VALLE|           76001|            CALI|  68|                 1|   F|  Comunitaria|          Casa|     Leve|           NULL|       NULL|Recuperado|  2020-12-18 00:00:00|               NULL|2020-12-22 00:00:00|2021-01-01 00:00:00|           Tiempo|                 6|               NULL|\n",
            "|2020-12-24 00:00:00|1556982|2020-12-22 00:00:00|                 76|              VALLE|           76001|            CALI|  74|                 1|   F|  Comunitaria|     Fallecido|Fallecido|           NULL|       NULL| Fallecido|  2020-12-17 00:00:00|2020-12-30 00:00:00|2020-12-23 00:00:00|               NULL|             NULL|                 6|               NULL|\n",
            "|2020-12-24 00:00:00|1556983|2020-12-22 00:00:00|                 76|              VALLE|           76001|            CALI|  65|                 1|   F|  Comunitaria|          Casa|     Leve|           NULL|       NULL|Recuperado|  2020-12-21 00:00:00|               NULL|2020-12-23 00:00:00|2021-01-04 00:00:00|           Tiempo|                 6|               NULL|\n",
            "|2020-12-24 00:00:00|1556984|2020-12-15 00:00:00|                 76|              VALLE|           76001|            CALI|  66|                 1|   F|  Comunitaria|          Casa|     Leve|           NULL|       NULL|Recuperado|  2020-12-09 00:00:00|               NULL|2020-12-23 00:00:00|2020-12-25 00:00:00|           Tiempo|                 6|               NULL|\n",
            "|2020-12-24 00:00:00|1556985|2020-12-21 00:00:00|                 76|              VALLE|           76001|            CALI|  74|                 1|   F|  Comunitaria|          Casa|     Leve|           NULL|       NULL|Recuperado|  2020-12-14 00:00:00|               NULL|2020-12-22 00:00:00|2020-12-28 00:00:00|           Tiempo|                 6|               NULL|\n",
            "|2020-12-24 00:00:00|1556986|2020-12-18 00:00:00|                 76|              VALLE|           76001|            CALI|  66|                 1|   F|  Comunitaria|     Fallecido|Fallecido|           NULL|       NULL| Fallecido|  2020-12-11 00:00:00|2020-12-26 00:00:00|2020-12-22 00:00:00|               NULL|             NULL|                 6|               NULL|\n",
            "|2020-12-24 00:00:00|1556987|2020-12-18 00:00:00|                 76|              VALLE|           76001|            CALI|  64|                 1|   F|  Comunitaria|          Casa|     Leve|           NULL|       NULL|Recuperado|  2020-12-15 00:00:00|               NULL|2020-12-23 00:00:00|2020-12-30 00:00:00|           Tiempo|                 6|               NULL|\n",
            "|2020-12-24 00:00:00|1556988|2020-12-17 00:00:00|                 76|              VALLE|           76001|            CALI|  65|                 1|   F|  Comunitaria|          Casa|     Leve|           NULL|       NULL|Recuperado|  2020-12-08 00:00:00|               NULL|2020-12-22 00:00:00|2020-12-25 00:00:00|           Tiempo|                 6|               NULL|\n",
            "|2020-12-24 00:00:00|1556989|2020-12-16 00:00:00|                 76|              VALLE|           76001|            CALI|  62|                 1|   F|  Comunitaria|          Casa|     Leve|           NULL|       NULL|Recuperado|  2020-12-08 00:00:00|               NULL|2020-12-23 00:00:00|2021-04-23 00:00:00|           Tiempo|                 6|               NULL|\n",
            "|2020-12-24 00:00:00|1556990|2020-12-08 00:00:00|                 76|              VALLE|           76001|            CALI|  36|                 1|   F|  Comunitaria|          Casa|     Leve|           NULL|       NULL|Recuperado|  2020-12-01 00:00:00|               NULL|2020-12-12 00:00:00|2020-12-25 00:00:00|           Tiempo|                 6|               NULL|\n",
            "|2020-12-24 00:00:00|1556991|2020-12-22 00:00:00|                 76|              VALLE|           76001|            CALI|  36|                 1|   F|  Comunitaria|          Casa|     Leve|           NULL|       NULL|Recuperado|  2020-12-19 00:00:00|               NULL|2020-12-21 00:00:00|2021-01-02 00:00:00|              PCR|                 6|               NULL|\n",
            "|2020-12-24 00:00:00|1556992|2020-12-19 00:00:00|                 76|              VALLE|           76001|            CALI|  35|                 1|   F|  Comunitaria|          Casa|     Leve|           NULL|       NULL|Recuperado|  2020-12-12 00:00:00|               NULL|2020-12-23 00:00:00|2020-12-27 00:00:00|           Tiempo|                 6|               NULL|\n",
            "|2020-11-08 00:00:00|1137429|2020-11-05 00:00:00|                  5|          ANTIOQUIA|            5266|        ENVIGADO|  37|                 1|   F|  Comunitaria|          Casa|     Leve|           NULL|       NULL|Recuperado|  2020-10-31 00:00:00|               NULL|2020-11-06 00:00:00|2021-04-25 00:00:00|              PCR|                 6|               NULL|\n",
            "|2020-11-08 00:00:00|1137430|2020-10-31 00:00:00|                 68|          SANTANDER|           68001|     BUCARAMANGA|  77|                 1|   M|  Comunitaria|          Casa|     Leve|           NULL|       NULL|Recuperado|  2020-10-31 00:00:00|               NULL|2020-11-06 00:00:00|2020-11-15 00:00:00|           Tiempo|                 6|               NULL|\n",
            "|2020-11-08 00:00:00|1137431|2020-11-04 00:00:00|                 54|    NORTE SANTANDER|           54001|          CUCUTA|  52|                 1|   M|  Comunitaria|          Casa|     Leve|           NULL|       NULL|Recuperado|  2020-10-31 00:00:00|               NULL|2020-11-07 00:00:00|2020-11-15 00:00:00|           Tiempo|                 6|               NULL|\n",
            "|2020-11-08 00:00:00|1137432|2020-11-06 00:00:00|                 17|             CALDAS|           17001|       MANIZALES|  46|                 1|   F|  Comunitaria|          Casa|     Leve|           NULL|       NULL|Recuperado|  2020-10-31 00:00:00|               NULL|2020-11-06 00:00:00|2020-11-15 00:00:00|           Tiempo|                 6|               NULL|\n",
            "|2020-11-08 00:00:00|1137433|2020-11-04 00:00:00|                  5|          ANTIOQUIA|            5266|        ENVIGADO|  37|                 1|   F|  Comunitaria|          Casa|     Leve|           NULL|       NULL|Recuperado|  2020-10-31 00:00:00|               NULL|2020-11-04 00:00:00|2020-11-15 00:00:00|           Tiempo|                 6|               NULL|\n",
            "|2020-11-08 00:00:00|1137434|2020-11-05 00:00:00|                 11|             BOGOTA|           11001|          BOGOTA|  81|                 1|   F|  Relacionado|     Fallecido|Fallecido|           NULL|       NULL| Fallecido|  2020-10-31 00:00:00|2020-11-11 00:00:00|2020-11-07 00:00:00|               NULL|             NULL|                 6|               NULL|\n",
            "+-------------------+-------+-------------------+-------------------+-------------------+----------------+----------------+----+------------------+----+-------------+--------------+---------+---------------+-----------+----------+---------------------+-------------------+-------------------+-------------------+-----------------+------------------+-------------------+\n",
            "only showing top 20 rows\n",
            "\n"
          ]
        }
      ]
    },
    {
      "cell_type": "code",
      "source": [
        "from pyspark.sql.functions import col\n",
        "\n",
        "# 2.5 Agregar columnas\n",
        "df_renamed = df_renamed.withColumn('mayor_30', col('Edad') > 30)\n",
        "df_renamed.show()\n"
      ],
      "metadata": {
        "colab": {
          "base_uri": "https://localhost:8080/"
        },
        "id": "1gI12IlHsR6x",
        "outputId": "436eb5fd-a03e-4d4e-da90-313a5fed7337"
      },
      "execution_count": 13,
      "outputs": [
        {
          "output_type": "stream",
          "name": "stdout",
          "text": [
            "+-------------------+-------+-------------------+-------------------+-------------------+----------------+----------------+----+------------------+----+-------------+--------------+---------+---------------+-----------+----------+---------------------+-------------------+-------------------+-------------------+-----------------+------------------+-------------------+--------+\n",
            "|      fecha_reporte|id_caso| fecha_notificacion|codigo_departamento|nombre_departamento|codigo_municipio|nombre_municipio|Edad|unidad_medida_edad|Sexo|tipo_contagio|ubicacion_caso|   Estado|codigo_iso_pais|nombre_pais|Recuperado|fecha_inicio_sintomas|       fecha_muerte|  fecha_diagnostico| fecha_recuperacion|tipo_recuperacion|pertenencia_etnica|nombre_grupo_etnico|mayor_30|\n",
            "+-------------------+-------+-------------------+-------------------+-------------------+----------------+----------------+----+------------------+----+-------------+--------------+---------+---------------+-----------+----------+---------------------+-------------------+-------------------+-------------------+-----------------+------------------+-------------------+--------+\n",
            "|2020-12-24 00:00:00|1556979|2020-12-22 00:00:00|                 76|              VALLE|           76001|            CALI|  67|                 1|   F|  Comunitaria|          Casa|     Leve|           NULL|       NULL|Recuperado|  2020-12-21 00:00:00|               NULL|2020-12-23 00:00:00|2021-01-04 00:00:00|           Tiempo|                 6|               NULL|    true|\n",
            "|2020-12-24 00:00:00|1556980|2020-12-19 00:00:00|                 76|              VALLE|           76001|            CALI|  66|                 1|   F|  Comunitaria|          Casa|     Leve|           NULL|       NULL|Recuperado|  2020-12-07 00:00:00|               NULL|2020-12-23 00:00:00|2020-12-25 00:00:00|           Tiempo|                 6|               NULL|    true|\n",
            "|2020-12-24 00:00:00|1556981|2020-12-19 00:00:00|                 76|              VALLE|           76001|            CALI|  68|                 1|   F|  Comunitaria|          Casa|     Leve|           NULL|       NULL|Recuperado|  2020-12-18 00:00:00|               NULL|2020-12-22 00:00:00|2021-01-01 00:00:00|           Tiempo|                 6|               NULL|    true|\n",
            "|2020-12-24 00:00:00|1556982|2020-12-22 00:00:00|                 76|              VALLE|           76001|            CALI|  74|                 1|   F|  Comunitaria|     Fallecido|Fallecido|           NULL|       NULL| Fallecido|  2020-12-17 00:00:00|2020-12-30 00:00:00|2020-12-23 00:00:00|               NULL|             NULL|                 6|               NULL|    true|\n",
            "|2020-12-24 00:00:00|1556983|2020-12-22 00:00:00|                 76|              VALLE|           76001|            CALI|  65|                 1|   F|  Comunitaria|          Casa|     Leve|           NULL|       NULL|Recuperado|  2020-12-21 00:00:00|               NULL|2020-12-23 00:00:00|2021-01-04 00:00:00|           Tiempo|                 6|               NULL|    true|\n",
            "|2020-12-24 00:00:00|1556984|2020-12-15 00:00:00|                 76|              VALLE|           76001|            CALI|  66|                 1|   F|  Comunitaria|          Casa|     Leve|           NULL|       NULL|Recuperado|  2020-12-09 00:00:00|               NULL|2020-12-23 00:00:00|2020-12-25 00:00:00|           Tiempo|                 6|               NULL|    true|\n",
            "|2020-12-24 00:00:00|1556985|2020-12-21 00:00:00|                 76|              VALLE|           76001|            CALI|  74|                 1|   F|  Comunitaria|          Casa|     Leve|           NULL|       NULL|Recuperado|  2020-12-14 00:00:00|               NULL|2020-12-22 00:00:00|2020-12-28 00:00:00|           Tiempo|                 6|               NULL|    true|\n",
            "|2020-12-24 00:00:00|1556986|2020-12-18 00:00:00|                 76|              VALLE|           76001|            CALI|  66|                 1|   F|  Comunitaria|     Fallecido|Fallecido|           NULL|       NULL| Fallecido|  2020-12-11 00:00:00|2020-12-26 00:00:00|2020-12-22 00:00:00|               NULL|             NULL|                 6|               NULL|    true|\n",
            "|2020-12-24 00:00:00|1556987|2020-12-18 00:00:00|                 76|              VALLE|           76001|            CALI|  64|                 1|   F|  Comunitaria|          Casa|     Leve|           NULL|       NULL|Recuperado|  2020-12-15 00:00:00|               NULL|2020-12-23 00:00:00|2020-12-30 00:00:00|           Tiempo|                 6|               NULL|    true|\n",
            "|2020-12-24 00:00:00|1556988|2020-12-17 00:00:00|                 76|              VALLE|           76001|            CALI|  65|                 1|   F|  Comunitaria|          Casa|     Leve|           NULL|       NULL|Recuperado|  2020-12-08 00:00:00|               NULL|2020-12-22 00:00:00|2020-12-25 00:00:00|           Tiempo|                 6|               NULL|    true|\n",
            "|2020-12-24 00:00:00|1556989|2020-12-16 00:00:00|                 76|              VALLE|           76001|            CALI|  62|                 1|   F|  Comunitaria|          Casa|     Leve|           NULL|       NULL|Recuperado|  2020-12-08 00:00:00|               NULL|2020-12-23 00:00:00|2021-04-23 00:00:00|           Tiempo|                 6|               NULL|    true|\n",
            "|2020-12-24 00:00:00|1556990|2020-12-08 00:00:00|                 76|              VALLE|           76001|            CALI|  36|                 1|   F|  Comunitaria|          Casa|     Leve|           NULL|       NULL|Recuperado|  2020-12-01 00:00:00|               NULL|2020-12-12 00:00:00|2020-12-25 00:00:00|           Tiempo|                 6|               NULL|    true|\n",
            "|2020-12-24 00:00:00|1556991|2020-12-22 00:00:00|                 76|              VALLE|           76001|            CALI|  36|                 1|   F|  Comunitaria|          Casa|     Leve|           NULL|       NULL|Recuperado|  2020-12-19 00:00:00|               NULL|2020-12-21 00:00:00|2021-01-02 00:00:00|              PCR|                 6|               NULL|    true|\n",
            "|2020-12-24 00:00:00|1556992|2020-12-19 00:00:00|                 76|              VALLE|           76001|            CALI|  35|                 1|   F|  Comunitaria|          Casa|     Leve|           NULL|       NULL|Recuperado|  2020-12-12 00:00:00|               NULL|2020-12-23 00:00:00|2020-12-27 00:00:00|           Tiempo|                 6|               NULL|    true|\n",
            "|2020-11-08 00:00:00|1137429|2020-11-05 00:00:00|                  5|          ANTIOQUIA|            5266|        ENVIGADO|  37|                 1|   F|  Comunitaria|          Casa|     Leve|           NULL|       NULL|Recuperado|  2020-10-31 00:00:00|               NULL|2020-11-06 00:00:00|2021-04-25 00:00:00|              PCR|                 6|               NULL|    true|\n",
            "|2020-11-08 00:00:00|1137430|2020-10-31 00:00:00|                 68|          SANTANDER|           68001|     BUCARAMANGA|  77|                 1|   M|  Comunitaria|          Casa|     Leve|           NULL|       NULL|Recuperado|  2020-10-31 00:00:00|               NULL|2020-11-06 00:00:00|2020-11-15 00:00:00|           Tiempo|                 6|               NULL|    true|\n",
            "|2020-11-08 00:00:00|1137431|2020-11-04 00:00:00|                 54|    NORTE SANTANDER|           54001|          CUCUTA|  52|                 1|   M|  Comunitaria|          Casa|     Leve|           NULL|       NULL|Recuperado|  2020-10-31 00:00:00|               NULL|2020-11-07 00:00:00|2020-11-15 00:00:00|           Tiempo|                 6|               NULL|    true|\n",
            "|2020-11-08 00:00:00|1137432|2020-11-06 00:00:00|                 17|             CALDAS|           17001|       MANIZALES|  46|                 1|   F|  Comunitaria|          Casa|     Leve|           NULL|       NULL|Recuperado|  2020-10-31 00:00:00|               NULL|2020-11-06 00:00:00|2020-11-15 00:00:00|           Tiempo|                 6|               NULL|    true|\n",
            "|2020-11-08 00:00:00|1137433|2020-11-04 00:00:00|                  5|          ANTIOQUIA|            5266|        ENVIGADO|  37|                 1|   F|  Comunitaria|          Casa|     Leve|           NULL|       NULL|Recuperado|  2020-10-31 00:00:00|               NULL|2020-11-04 00:00:00|2020-11-15 00:00:00|           Tiempo|                 6|               NULL|    true|\n",
            "|2020-11-08 00:00:00|1137434|2020-11-05 00:00:00|                 11|             BOGOTA|           11001|          BOGOTA|  81|                 1|   F|  Relacionado|     Fallecido|Fallecido|           NULL|       NULL| Fallecido|  2020-10-31 00:00:00|2020-11-11 00:00:00|2020-11-07 00:00:00|               NULL|             NULL|                 6|               NULL|    true|\n",
            "+-------------------+-------+-------------------+-------------------+-------------------+----------------+----------------+----+------------------+----+-------------+--------------+---------+---------------+-----------+----------+---------------------+-------------------+-------------------+-------------------+-----------------+------------------+-------------------+--------+\n",
            "only showing top 20 rows\n",
            "\n"
          ]
        }
      ]
    },
    {
      "cell_type": "code",
      "source": [
        "# 2.6 Borrar columnas\n",
        "df_renamed = df_renamed.drop('unidad_medida_edad')\n",
        "df_renamed.show()"
      ],
      "metadata": {
        "colab": {
          "base_uri": "https://localhost:8080/"
        },
        "id": "bEKxFi8uuF3k",
        "outputId": "1ead0b3f-84bf-4455-d73c-a824ca805086"
      },
      "execution_count": 14,
      "outputs": [
        {
          "output_type": "stream",
          "name": "stdout",
          "text": [
            "+-------------------+-------+-------------------+-------------------+-------------------+----------------+----------------+----+----+-------------+--------------+---------+---------------+-----------+----------+---------------------+-------------------+-------------------+-------------------+-----------------+------------------+-------------------+--------+\n",
            "|      fecha_reporte|id_caso| fecha_notificacion|codigo_departamento|nombre_departamento|codigo_municipio|nombre_municipio|Edad|Sexo|tipo_contagio|ubicacion_caso|   Estado|codigo_iso_pais|nombre_pais|Recuperado|fecha_inicio_sintomas|       fecha_muerte|  fecha_diagnostico| fecha_recuperacion|tipo_recuperacion|pertenencia_etnica|nombre_grupo_etnico|mayor_30|\n",
            "+-------------------+-------+-------------------+-------------------+-------------------+----------------+----------------+----+----+-------------+--------------+---------+---------------+-----------+----------+---------------------+-------------------+-------------------+-------------------+-----------------+------------------+-------------------+--------+\n",
            "|2020-12-24 00:00:00|1556979|2020-12-22 00:00:00|                 76|              VALLE|           76001|            CALI|  67|   F|  Comunitaria|          Casa|     Leve|           NULL|       NULL|Recuperado|  2020-12-21 00:00:00|               NULL|2020-12-23 00:00:00|2021-01-04 00:00:00|           Tiempo|                 6|               NULL|    true|\n",
            "|2020-12-24 00:00:00|1556980|2020-12-19 00:00:00|                 76|              VALLE|           76001|            CALI|  66|   F|  Comunitaria|          Casa|     Leve|           NULL|       NULL|Recuperado|  2020-12-07 00:00:00|               NULL|2020-12-23 00:00:00|2020-12-25 00:00:00|           Tiempo|                 6|               NULL|    true|\n",
            "|2020-12-24 00:00:00|1556981|2020-12-19 00:00:00|                 76|              VALLE|           76001|            CALI|  68|   F|  Comunitaria|          Casa|     Leve|           NULL|       NULL|Recuperado|  2020-12-18 00:00:00|               NULL|2020-12-22 00:00:00|2021-01-01 00:00:00|           Tiempo|                 6|               NULL|    true|\n",
            "|2020-12-24 00:00:00|1556982|2020-12-22 00:00:00|                 76|              VALLE|           76001|            CALI|  74|   F|  Comunitaria|     Fallecido|Fallecido|           NULL|       NULL| Fallecido|  2020-12-17 00:00:00|2020-12-30 00:00:00|2020-12-23 00:00:00|               NULL|             NULL|                 6|               NULL|    true|\n",
            "|2020-12-24 00:00:00|1556983|2020-12-22 00:00:00|                 76|              VALLE|           76001|            CALI|  65|   F|  Comunitaria|          Casa|     Leve|           NULL|       NULL|Recuperado|  2020-12-21 00:00:00|               NULL|2020-12-23 00:00:00|2021-01-04 00:00:00|           Tiempo|                 6|               NULL|    true|\n",
            "|2020-12-24 00:00:00|1556984|2020-12-15 00:00:00|                 76|              VALLE|           76001|            CALI|  66|   F|  Comunitaria|          Casa|     Leve|           NULL|       NULL|Recuperado|  2020-12-09 00:00:00|               NULL|2020-12-23 00:00:00|2020-12-25 00:00:00|           Tiempo|                 6|               NULL|    true|\n",
            "|2020-12-24 00:00:00|1556985|2020-12-21 00:00:00|                 76|              VALLE|           76001|            CALI|  74|   F|  Comunitaria|          Casa|     Leve|           NULL|       NULL|Recuperado|  2020-12-14 00:00:00|               NULL|2020-12-22 00:00:00|2020-12-28 00:00:00|           Tiempo|                 6|               NULL|    true|\n",
            "|2020-12-24 00:00:00|1556986|2020-12-18 00:00:00|                 76|              VALLE|           76001|            CALI|  66|   F|  Comunitaria|     Fallecido|Fallecido|           NULL|       NULL| Fallecido|  2020-12-11 00:00:00|2020-12-26 00:00:00|2020-12-22 00:00:00|               NULL|             NULL|                 6|               NULL|    true|\n",
            "|2020-12-24 00:00:00|1556987|2020-12-18 00:00:00|                 76|              VALLE|           76001|            CALI|  64|   F|  Comunitaria|          Casa|     Leve|           NULL|       NULL|Recuperado|  2020-12-15 00:00:00|               NULL|2020-12-23 00:00:00|2020-12-30 00:00:00|           Tiempo|                 6|               NULL|    true|\n",
            "|2020-12-24 00:00:00|1556988|2020-12-17 00:00:00|                 76|              VALLE|           76001|            CALI|  65|   F|  Comunitaria|          Casa|     Leve|           NULL|       NULL|Recuperado|  2020-12-08 00:00:00|               NULL|2020-12-22 00:00:00|2020-12-25 00:00:00|           Tiempo|                 6|               NULL|    true|\n",
            "|2020-12-24 00:00:00|1556989|2020-12-16 00:00:00|                 76|              VALLE|           76001|            CALI|  62|   F|  Comunitaria|          Casa|     Leve|           NULL|       NULL|Recuperado|  2020-12-08 00:00:00|               NULL|2020-12-23 00:00:00|2021-04-23 00:00:00|           Tiempo|                 6|               NULL|    true|\n",
            "|2020-12-24 00:00:00|1556990|2020-12-08 00:00:00|                 76|              VALLE|           76001|            CALI|  36|   F|  Comunitaria|          Casa|     Leve|           NULL|       NULL|Recuperado|  2020-12-01 00:00:00|               NULL|2020-12-12 00:00:00|2020-12-25 00:00:00|           Tiempo|                 6|               NULL|    true|\n",
            "|2020-12-24 00:00:00|1556991|2020-12-22 00:00:00|                 76|              VALLE|           76001|            CALI|  36|   F|  Comunitaria|          Casa|     Leve|           NULL|       NULL|Recuperado|  2020-12-19 00:00:00|               NULL|2020-12-21 00:00:00|2021-01-02 00:00:00|              PCR|                 6|               NULL|    true|\n",
            "|2020-12-24 00:00:00|1556992|2020-12-19 00:00:00|                 76|              VALLE|           76001|            CALI|  35|   F|  Comunitaria|          Casa|     Leve|           NULL|       NULL|Recuperado|  2020-12-12 00:00:00|               NULL|2020-12-23 00:00:00|2020-12-27 00:00:00|           Tiempo|                 6|               NULL|    true|\n",
            "|2020-11-08 00:00:00|1137429|2020-11-05 00:00:00|                  5|          ANTIOQUIA|            5266|        ENVIGADO|  37|   F|  Comunitaria|          Casa|     Leve|           NULL|       NULL|Recuperado|  2020-10-31 00:00:00|               NULL|2020-11-06 00:00:00|2021-04-25 00:00:00|              PCR|                 6|               NULL|    true|\n",
            "|2020-11-08 00:00:00|1137430|2020-10-31 00:00:00|                 68|          SANTANDER|           68001|     BUCARAMANGA|  77|   M|  Comunitaria|          Casa|     Leve|           NULL|       NULL|Recuperado|  2020-10-31 00:00:00|               NULL|2020-11-06 00:00:00|2020-11-15 00:00:00|           Tiempo|                 6|               NULL|    true|\n",
            "|2020-11-08 00:00:00|1137431|2020-11-04 00:00:00|                 54|    NORTE SANTANDER|           54001|          CUCUTA|  52|   M|  Comunitaria|          Casa|     Leve|           NULL|       NULL|Recuperado|  2020-10-31 00:00:00|               NULL|2020-11-07 00:00:00|2020-11-15 00:00:00|           Tiempo|                 6|               NULL|    true|\n",
            "|2020-11-08 00:00:00|1137432|2020-11-06 00:00:00|                 17|             CALDAS|           17001|       MANIZALES|  46|   F|  Comunitaria|          Casa|     Leve|           NULL|       NULL|Recuperado|  2020-10-31 00:00:00|               NULL|2020-11-06 00:00:00|2020-11-15 00:00:00|           Tiempo|                 6|               NULL|    true|\n",
            "|2020-11-08 00:00:00|1137433|2020-11-04 00:00:00|                  5|          ANTIOQUIA|            5266|        ENVIGADO|  37|   F|  Comunitaria|          Casa|     Leve|           NULL|       NULL|Recuperado|  2020-10-31 00:00:00|               NULL|2020-11-04 00:00:00|2020-11-15 00:00:00|           Tiempo|                 6|               NULL|    true|\n",
            "|2020-11-08 00:00:00|1137434|2020-11-05 00:00:00|                 11|             BOGOTA|           11001|          BOGOTA|  81|   F|  Relacionado|     Fallecido|Fallecido|           NULL|       NULL| Fallecido|  2020-10-31 00:00:00|2020-11-11 00:00:00|2020-11-07 00:00:00|               NULL|             NULL|                 6|               NULL|    true|\n",
            "+-------------------+-------+-------------------+-------------------+-------------------+----------------+----------------+----+----+-------------+--------------+---------+---------------+-----------+----------+---------------------+-------------------+-------------------+-------------------+-----------------+------------------+-------------------+--------+\n",
            "only showing top 20 rows\n",
            "\n"
          ]
        }
      ]
    },
    {
      "cell_type": "code",
      "source": [
        "# 2.7 Filtrar datos\n",
        "df_filtered = df_renamed.filter(col('Sexo') == 'F')\n",
        "df_filtered.show()\n"
      ],
      "metadata": {
        "colab": {
          "base_uri": "https://localhost:8080/"
        },
        "id": "LMP0WiT3uznw",
        "outputId": "9baf8bda-5e4c-414b-8b2f-4a7352565ff7"
      },
      "execution_count": 15,
      "outputs": [
        {
          "output_type": "stream",
          "name": "stdout",
          "text": [
            "+-------------------+-------+-------------------+-------------------+-------------------+----------------+----------------+----+----+-------------+--------------+---------+---------------+-----------+----------+---------------------+-------------------+-------------------+-------------------+-----------------+------------------+-------------------+--------+\n",
            "|      fecha_reporte|id_caso| fecha_notificacion|codigo_departamento|nombre_departamento|codigo_municipio|nombre_municipio|Edad|Sexo|tipo_contagio|ubicacion_caso|   Estado|codigo_iso_pais|nombre_pais|Recuperado|fecha_inicio_sintomas|       fecha_muerte|  fecha_diagnostico| fecha_recuperacion|tipo_recuperacion|pertenencia_etnica|nombre_grupo_etnico|mayor_30|\n",
            "+-------------------+-------+-------------------+-------------------+-------------------+----------------+----------------+----+----+-------------+--------------+---------+---------------+-----------+----------+---------------------+-------------------+-------------------+-------------------+-----------------+------------------+-------------------+--------+\n",
            "|2020-12-24 00:00:00|1556979|2020-12-22 00:00:00|                 76|              VALLE|           76001|            CALI|  67|   F|  Comunitaria|          Casa|     Leve|           NULL|       NULL|Recuperado|  2020-12-21 00:00:00|               NULL|2020-12-23 00:00:00|2021-01-04 00:00:00|           Tiempo|                 6|               NULL|    true|\n",
            "|2020-12-24 00:00:00|1556980|2020-12-19 00:00:00|                 76|              VALLE|           76001|            CALI|  66|   F|  Comunitaria|          Casa|     Leve|           NULL|       NULL|Recuperado|  2020-12-07 00:00:00|               NULL|2020-12-23 00:00:00|2020-12-25 00:00:00|           Tiempo|                 6|               NULL|    true|\n",
            "|2020-12-24 00:00:00|1556981|2020-12-19 00:00:00|                 76|              VALLE|           76001|            CALI|  68|   F|  Comunitaria|          Casa|     Leve|           NULL|       NULL|Recuperado|  2020-12-18 00:00:00|               NULL|2020-12-22 00:00:00|2021-01-01 00:00:00|           Tiempo|                 6|               NULL|    true|\n",
            "|2020-12-24 00:00:00|1556982|2020-12-22 00:00:00|                 76|              VALLE|           76001|            CALI|  74|   F|  Comunitaria|     Fallecido|Fallecido|           NULL|       NULL| Fallecido|  2020-12-17 00:00:00|2020-12-30 00:00:00|2020-12-23 00:00:00|               NULL|             NULL|                 6|               NULL|    true|\n",
            "|2020-12-24 00:00:00|1556983|2020-12-22 00:00:00|                 76|              VALLE|           76001|            CALI|  65|   F|  Comunitaria|          Casa|     Leve|           NULL|       NULL|Recuperado|  2020-12-21 00:00:00|               NULL|2020-12-23 00:00:00|2021-01-04 00:00:00|           Tiempo|                 6|               NULL|    true|\n",
            "|2020-12-24 00:00:00|1556984|2020-12-15 00:00:00|                 76|              VALLE|           76001|            CALI|  66|   F|  Comunitaria|          Casa|     Leve|           NULL|       NULL|Recuperado|  2020-12-09 00:00:00|               NULL|2020-12-23 00:00:00|2020-12-25 00:00:00|           Tiempo|                 6|               NULL|    true|\n",
            "|2020-12-24 00:00:00|1556985|2020-12-21 00:00:00|                 76|              VALLE|           76001|            CALI|  74|   F|  Comunitaria|          Casa|     Leve|           NULL|       NULL|Recuperado|  2020-12-14 00:00:00|               NULL|2020-12-22 00:00:00|2020-12-28 00:00:00|           Tiempo|                 6|               NULL|    true|\n",
            "|2020-12-24 00:00:00|1556986|2020-12-18 00:00:00|                 76|              VALLE|           76001|            CALI|  66|   F|  Comunitaria|     Fallecido|Fallecido|           NULL|       NULL| Fallecido|  2020-12-11 00:00:00|2020-12-26 00:00:00|2020-12-22 00:00:00|               NULL|             NULL|                 6|               NULL|    true|\n",
            "|2020-12-24 00:00:00|1556987|2020-12-18 00:00:00|                 76|              VALLE|           76001|            CALI|  64|   F|  Comunitaria|          Casa|     Leve|           NULL|       NULL|Recuperado|  2020-12-15 00:00:00|               NULL|2020-12-23 00:00:00|2020-12-30 00:00:00|           Tiempo|                 6|               NULL|    true|\n",
            "|2020-12-24 00:00:00|1556988|2020-12-17 00:00:00|                 76|              VALLE|           76001|            CALI|  65|   F|  Comunitaria|          Casa|     Leve|           NULL|       NULL|Recuperado|  2020-12-08 00:00:00|               NULL|2020-12-22 00:00:00|2020-12-25 00:00:00|           Tiempo|                 6|               NULL|    true|\n",
            "|2020-12-24 00:00:00|1556989|2020-12-16 00:00:00|                 76|              VALLE|           76001|            CALI|  62|   F|  Comunitaria|          Casa|     Leve|           NULL|       NULL|Recuperado|  2020-12-08 00:00:00|               NULL|2020-12-23 00:00:00|2021-04-23 00:00:00|           Tiempo|                 6|               NULL|    true|\n",
            "|2020-12-24 00:00:00|1556990|2020-12-08 00:00:00|                 76|              VALLE|           76001|            CALI|  36|   F|  Comunitaria|          Casa|     Leve|           NULL|       NULL|Recuperado|  2020-12-01 00:00:00|               NULL|2020-12-12 00:00:00|2020-12-25 00:00:00|           Tiempo|                 6|               NULL|    true|\n",
            "|2020-12-24 00:00:00|1556991|2020-12-22 00:00:00|                 76|              VALLE|           76001|            CALI|  36|   F|  Comunitaria|          Casa|     Leve|           NULL|       NULL|Recuperado|  2020-12-19 00:00:00|               NULL|2020-12-21 00:00:00|2021-01-02 00:00:00|              PCR|                 6|               NULL|    true|\n",
            "|2020-12-24 00:00:00|1556992|2020-12-19 00:00:00|                 76|              VALLE|           76001|            CALI|  35|   F|  Comunitaria|          Casa|     Leve|           NULL|       NULL|Recuperado|  2020-12-12 00:00:00|               NULL|2020-12-23 00:00:00|2020-12-27 00:00:00|           Tiempo|                 6|               NULL|    true|\n",
            "|2020-11-08 00:00:00|1137429|2020-11-05 00:00:00|                  5|          ANTIOQUIA|            5266|        ENVIGADO|  37|   F|  Comunitaria|          Casa|     Leve|           NULL|       NULL|Recuperado|  2020-10-31 00:00:00|               NULL|2020-11-06 00:00:00|2021-04-25 00:00:00|              PCR|                 6|               NULL|    true|\n",
            "|2020-11-08 00:00:00|1137432|2020-11-06 00:00:00|                 17|             CALDAS|           17001|       MANIZALES|  46|   F|  Comunitaria|          Casa|     Leve|           NULL|       NULL|Recuperado|  2020-10-31 00:00:00|               NULL|2020-11-06 00:00:00|2020-11-15 00:00:00|           Tiempo|                 6|               NULL|    true|\n",
            "|2020-11-08 00:00:00|1137433|2020-11-04 00:00:00|                  5|          ANTIOQUIA|            5266|        ENVIGADO|  37|   F|  Comunitaria|          Casa|     Leve|           NULL|       NULL|Recuperado|  2020-10-31 00:00:00|               NULL|2020-11-04 00:00:00|2020-11-15 00:00:00|           Tiempo|                 6|               NULL|    true|\n",
            "|2020-11-08 00:00:00|1137434|2020-11-05 00:00:00|                 11|             BOGOTA|           11001|          BOGOTA|  81|   F|  Relacionado|     Fallecido|Fallecido|           NULL|       NULL| Fallecido|  2020-10-31 00:00:00|2020-11-11 00:00:00|2020-11-07 00:00:00|               NULL|             NULL|                 6|               NULL|    true|\n",
            "|2020-11-08 00:00:00|1137437|2020-11-03 00:00:00|                  5|          ANTIOQUIA|            5360|          ITAGUI|  36|   F|  Comunitaria|          Casa|     Leve|           NULL|       NULL|Recuperado|  2020-10-31 00:00:00|               NULL|2020-11-04 00:00:00|2020-11-15 00:00:00|           Tiempo|                 6|               NULL|    true|\n",
            "|2020-11-08 00:00:00|1137439|2020-11-05 00:00:00|                 76|              VALLE|           76147|         CARTAGO|  56|   F|  Comunitaria|          Casa|     Leve|           NULL|       NULL|Recuperado|  2020-10-31 00:00:00|               NULL|2020-11-05 00:00:00|2020-11-15 00:00:00|           Tiempo|                 6|               NULL|    true|\n",
            "+-------------------+-------+-------------------+-------------------+-------------------+----------------+----------------+----+----+-------------+--------------+---------+---------------+-----------+----------+---------------------+-------------------+-------------------+-------------------+-----------------+------------------+-------------------+--------+\n",
            "only showing top 20 rows\n",
            "\n"
          ]
        }
      ]
    },
    {
      "cell_type": "code",
      "source": [
        "# 2.8 Función UDS\n",
        "\n",
        "from pyspark.sql.functions import udf\n",
        "from pyspark.sql.types import StringType\n",
        "\n",
        "# Definir una función para clasificar la edad\n",
        "def clasificar_edad(edad):\n",
        "    if edad < 18:\n",
        "        return 'Menor'\n",
        "    elif 18 <= edad < 30:\n",
        "        return 'Joven'\n",
        "    elif 30 <= edad < 60:\n",
        "        return 'Adulto'\n",
        "    else:\n",
        "        return 'Adulto Mayor'\n",
        "\n",
        "# Registrar la función como una UDF\n",
        "clasificar_edad_udf = udf(clasificar_edad, StringType())\n",
        "\n",
        "# Aplicar la UDF para crear una nueva columna\n",
        "df_renamed = df_renamed.withColumn('categoria_edad', clasificar_edad_udf(col('Edad')))\n",
        "df_renamed.show()\n"
      ],
      "metadata": {
        "colab": {
          "base_uri": "https://localhost:8080/"
        },
        "id": "q5Hl6Wb1zuC1",
        "outputId": "c0d11a69-8390-4c87-fb31-89feb514bed7"
      },
      "execution_count": 16,
      "outputs": [
        {
          "output_type": "stream",
          "name": "stdout",
          "text": [
            "+-------------------+-------+-------------------+-------------------+-------------------+----------------+----------------+----+----+-------------+--------------+---------+---------------+-----------+----------+---------------------+-------------------+-------------------+-------------------+-----------------+------------------+-------------------+--------+--------------+\n",
            "|      fecha_reporte|id_caso| fecha_notificacion|codigo_departamento|nombre_departamento|codigo_municipio|nombre_municipio|Edad|Sexo|tipo_contagio|ubicacion_caso|   Estado|codigo_iso_pais|nombre_pais|Recuperado|fecha_inicio_sintomas|       fecha_muerte|  fecha_diagnostico| fecha_recuperacion|tipo_recuperacion|pertenencia_etnica|nombre_grupo_etnico|mayor_30|categoria_edad|\n",
            "+-------------------+-------+-------------------+-------------------+-------------------+----------------+----------------+----+----+-------------+--------------+---------+---------------+-----------+----------+---------------------+-------------------+-------------------+-------------------+-----------------+------------------+-------------------+--------+--------------+\n",
            "|2020-12-24 00:00:00|1556979|2020-12-22 00:00:00|                 76|              VALLE|           76001|            CALI|  67|   F|  Comunitaria|          Casa|     Leve|           NULL|       NULL|Recuperado|  2020-12-21 00:00:00|               NULL|2020-12-23 00:00:00|2021-01-04 00:00:00|           Tiempo|                 6|               NULL|    true|  Adulto Mayor|\n",
            "|2020-12-24 00:00:00|1556980|2020-12-19 00:00:00|                 76|              VALLE|           76001|            CALI|  66|   F|  Comunitaria|          Casa|     Leve|           NULL|       NULL|Recuperado|  2020-12-07 00:00:00|               NULL|2020-12-23 00:00:00|2020-12-25 00:00:00|           Tiempo|                 6|               NULL|    true|  Adulto Mayor|\n",
            "|2020-12-24 00:00:00|1556981|2020-12-19 00:00:00|                 76|              VALLE|           76001|            CALI|  68|   F|  Comunitaria|          Casa|     Leve|           NULL|       NULL|Recuperado|  2020-12-18 00:00:00|               NULL|2020-12-22 00:00:00|2021-01-01 00:00:00|           Tiempo|                 6|               NULL|    true|  Adulto Mayor|\n",
            "|2020-12-24 00:00:00|1556982|2020-12-22 00:00:00|                 76|              VALLE|           76001|            CALI|  74|   F|  Comunitaria|     Fallecido|Fallecido|           NULL|       NULL| Fallecido|  2020-12-17 00:00:00|2020-12-30 00:00:00|2020-12-23 00:00:00|               NULL|             NULL|                 6|               NULL|    true|  Adulto Mayor|\n",
            "|2020-12-24 00:00:00|1556983|2020-12-22 00:00:00|                 76|              VALLE|           76001|            CALI|  65|   F|  Comunitaria|          Casa|     Leve|           NULL|       NULL|Recuperado|  2020-12-21 00:00:00|               NULL|2020-12-23 00:00:00|2021-01-04 00:00:00|           Tiempo|                 6|               NULL|    true|  Adulto Mayor|\n",
            "|2020-12-24 00:00:00|1556984|2020-12-15 00:00:00|                 76|              VALLE|           76001|            CALI|  66|   F|  Comunitaria|          Casa|     Leve|           NULL|       NULL|Recuperado|  2020-12-09 00:00:00|               NULL|2020-12-23 00:00:00|2020-12-25 00:00:00|           Tiempo|                 6|               NULL|    true|  Adulto Mayor|\n",
            "|2020-12-24 00:00:00|1556985|2020-12-21 00:00:00|                 76|              VALLE|           76001|            CALI|  74|   F|  Comunitaria|          Casa|     Leve|           NULL|       NULL|Recuperado|  2020-12-14 00:00:00|               NULL|2020-12-22 00:00:00|2020-12-28 00:00:00|           Tiempo|                 6|               NULL|    true|  Adulto Mayor|\n",
            "|2020-12-24 00:00:00|1556986|2020-12-18 00:00:00|                 76|              VALLE|           76001|            CALI|  66|   F|  Comunitaria|     Fallecido|Fallecido|           NULL|       NULL| Fallecido|  2020-12-11 00:00:00|2020-12-26 00:00:00|2020-12-22 00:00:00|               NULL|             NULL|                 6|               NULL|    true|  Adulto Mayor|\n",
            "|2020-12-24 00:00:00|1556987|2020-12-18 00:00:00|                 76|              VALLE|           76001|            CALI|  64|   F|  Comunitaria|          Casa|     Leve|           NULL|       NULL|Recuperado|  2020-12-15 00:00:00|               NULL|2020-12-23 00:00:00|2020-12-30 00:00:00|           Tiempo|                 6|               NULL|    true|  Adulto Mayor|\n",
            "|2020-12-24 00:00:00|1556988|2020-12-17 00:00:00|                 76|              VALLE|           76001|            CALI|  65|   F|  Comunitaria|          Casa|     Leve|           NULL|       NULL|Recuperado|  2020-12-08 00:00:00|               NULL|2020-12-22 00:00:00|2020-12-25 00:00:00|           Tiempo|                 6|               NULL|    true|  Adulto Mayor|\n",
            "|2020-12-24 00:00:00|1556989|2020-12-16 00:00:00|                 76|              VALLE|           76001|            CALI|  62|   F|  Comunitaria|          Casa|     Leve|           NULL|       NULL|Recuperado|  2020-12-08 00:00:00|               NULL|2020-12-23 00:00:00|2021-04-23 00:00:00|           Tiempo|                 6|               NULL|    true|  Adulto Mayor|\n",
            "|2020-12-24 00:00:00|1556990|2020-12-08 00:00:00|                 76|              VALLE|           76001|            CALI|  36|   F|  Comunitaria|          Casa|     Leve|           NULL|       NULL|Recuperado|  2020-12-01 00:00:00|               NULL|2020-12-12 00:00:00|2020-12-25 00:00:00|           Tiempo|                 6|               NULL|    true|        Adulto|\n",
            "|2020-12-24 00:00:00|1556991|2020-12-22 00:00:00|                 76|              VALLE|           76001|            CALI|  36|   F|  Comunitaria|          Casa|     Leve|           NULL|       NULL|Recuperado|  2020-12-19 00:00:00|               NULL|2020-12-21 00:00:00|2021-01-02 00:00:00|              PCR|                 6|               NULL|    true|        Adulto|\n",
            "|2020-12-24 00:00:00|1556992|2020-12-19 00:00:00|                 76|              VALLE|           76001|            CALI|  35|   F|  Comunitaria|          Casa|     Leve|           NULL|       NULL|Recuperado|  2020-12-12 00:00:00|               NULL|2020-12-23 00:00:00|2020-12-27 00:00:00|           Tiempo|                 6|               NULL|    true|        Adulto|\n",
            "|2020-11-08 00:00:00|1137429|2020-11-05 00:00:00|                  5|          ANTIOQUIA|            5266|        ENVIGADO|  37|   F|  Comunitaria|          Casa|     Leve|           NULL|       NULL|Recuperado|  2020-10-31 00:00:00|               NULL|2020-11-06 00:00:00|2021-04-25 00:00:00|              PCR|                 6|               NULL|    true|        Adulto|\n",
            "|2020-11-08 00:00:00|1137430|2020-10-31 00:00:00|                 68|          SANTANDER|           68001|     BUCARAMANGA|  77|   M|  Comunitaria|          Casa|     Leve|           NULL|       NULL|Recuperado|  2020-10-31 00:00:00|               NULL|2020-11-06 00:00:00|2020-11-15 00:00:00|           Tiempo|                 6|               NULL|    true|  Adulto Mayor|\n",
            "|2020-11-08 00:00:00|1137431|2020-11-04 00:00:00|                 54|    NORTE SANTANDER|           54001|          CUCUTA|  52|   M|  Comunitaria|          Casa|     Leve|           NULL|       NULL|Recuperado|  2020-10-31 00:00:00|               NULL|2020-11-07 00:00:00|2020-11-15 00:00:00|           Tiempo|                 6|               NULL|    true|        Adulto|\n",
            "|2020-11-08 00:00:00|1137432|2020-11-06 00:00:00|                 17|             CALDAS|           17001|       MANIZALES|  46|   F|  Comunitaria|          Casa|     Leve|           NULL|       NULL|Recuperado|  2020-10-31 00:00:00|               NULL|2020-11-06 00:00:00|2020-11-15 00:00:00|           Tiempo|                 6|               NULL|    true|        Adulto|\n",
            "|2020-11-08 00:00:00|1137433|2020-11-04 00:00:00|                  5|          ANTIOQUIA|            5266|        ENVIGADO|  37|   F|  Comunitaria|          Casa|     Leve|           NULL|       NULL|Recuperado|  2020-10-31 00:00:00|               NULL|2020-11-04 00:00:00|2020-11-15 00:00:00|           Tiempo|                 6|               NULL|    true|        Adulto|\n",
            "|2020-11-08 00:00:00|1137434|2020-11-05 00:00:00|                 11|             BOGOTA|           11001|          BOGOTA|  81|   F|  Relacionado|     Fallecido|Fallecido|           NULL|       NULL| Fallecido|  2020-10-31 00:00:00|2020-11-11 00:00:00|2020-11-07 00:00:00|               NULL|             NULL|                 6|               NULL|    true|  Adulto Mayor|\n",
            "+-------------------+-------+-------------------+-------------------+-------------------+----------------+----------------+----+----+-------------+--------------+---------+---------------+-----------+----------+---------------------+-------------------+-------------------+-------------------+-----------------+------------------+-------------------+--------+--------------+\n",
            "only showing top 20 rows\n",
            "\n"
          ]
        }
      ]
    },
    {
      "cell_type": "markdown",
      "source": [
        "**NUMERAL 3**"
      ],
      "metadata": {
        "id": "n72m1cco94CB"
      }
    },
    {
      "cell_type": "code",
      "source": [
        "from pyspark.sql.functions import col\n",
        "\n",
        "# 3.1 Usando Dataframe\n",
        "\n",
        "top_departments_df = df_renamed.groupBy('nombre_departamento').count().orderBy(col('count').desc()).limit(10)\n",
        "top_departments_df.show()\n"
      ],
      "metadata": {
        "colab": {
          "base_uri": "https://localhost:8080/"
        },
        "id": "KakSc6QN-AF3",
        "outputId": "5c79a074-5d30-4141-9823-eec7a3d12799"
      },
      "execution_count": 17,
      "outputs": [
        {
          "output_type": "stream",
          "name": "stdout",
          "text": [
            "+-------------------+-------+\n",
            "|nombre_departamento|  count|\n",
            "+-------------------+-------+\n",
            "|             BOGOTA|1888137|\n",
            "|          ANTIOQUIA| 955271|\n",
            "|              VALLE| 572724|\n",
            "|       CUNDINAMARCA| 331331|\n",
            "|          SANTANDER| 297370|\n",
            "|       BARRANQUILLA| 277989|\n",
            "|          CARTAGENA| 163526|\n",
            "|          ATLANTICO| 141072|\n",
            "|             BOYACA| 131133|\n",
            "|             TOLIMA| 127764|\n",
            "+-------------------+-------+\n",
            "\n"
          ]
        }
      ]
    },
    {
      "cell_type": "code",
      "source": [
        "# 3.1 Usando SparkSQL\n",
        "\n",
        "df_renamed.createOrReplaceTempView(\"covid_data\")\n",
        "\n",
        "top_departments_sql = spark.sql(\"\"\"\n",
        "    SELECT nombre_departamento, COUNT(id_caso) AS total_casos\n",
        "    FROM covid_data\n",
        "    GROUP BY nombre_departamento\n",
        "    ORDER BY total_casos DESC\n",
        "    LIMIT 10\n",
        "\"\"\")\n",
        "top_departments_sql.show()\n"
      ],
      "metadata": {
        "colab": {
          "base_uri": "https://localhost:8080/"
        },
        "id": "Q6r0Fkj4KQQI",
        "outputId": "47f61449-09ca-4cc0-e2d7-1835ba48dfde"
      },
      "execution_count": 18,
      "outputs": [
        {
          "output_type": "stream",
          "name": "stdout",
          "text": [
            "+-------------------+-----------+\n",
            "|nombre_departamento|total_casos|\n",
            "+-------------------+-----------+\n",
            "|             BOGOTA|    1888137|\n",
            "|          ANTIOQUIA|     955271|\n",
            "|              VALLE|     572724|\n",
            "|       CUNDINAMARCA|     331331|\n",
            "|          SANTANDER|     297370|\n",
            "|       BARRANQUILLA|     277989|\n",
            "|          CARTAGENA|     163526|\n",
            "|          ATLANTICO|     141072|\n",
            "|             BOYACA|     131133|\n",
            "|             TOLIMA|     127764|\n",
            "+-------------------+-----------+\n",
            "\n"
          ]
        }
      ]
    },
    {
      "cell_type": "code",
      "source": [
        "# 3.2 Usando Datataframe\n",
        "\n",
        "top_cities_df = df_renamed.groupBy('nombre_municipio').count().orderBy(col('count').desc()).limit(10)\n",
        "top_cities_df.show()"
      ],
      "metadata": {
        "id": "PDz8_NV7MFA4",
        "colab": {
          "base_uri": "https://localhost:8080/"
        },
        "outputId": "f415e5d0-e2ff-4778-ed09-b997789b42f4"
      },
      "execution_count": 19,
      "outputs": [
        {
          "output_type": "stream",
          "name": "stdout",
          "text": [
            "+----------------+-------+\n",
            "|nombre_municipio|  count|\n",
            "+----------------+-------+\n",
            "|          BOGOTA|1888137|\n",
            "|        MEDELLIN| 550790|\n",
            "|            CALI| 406751|\n",
            "|    BARRANQUILLA| 277989|\n",
            "|       CARTAGENA| 163526|\n",
            "|     BUCARAMANGA| 142842|\n",
            "|          IBAGUE|  91598|\n",
            "|     SANTA MARTA|  84863|\n",
            "|       MANIZALES|  84478|\n",
            "|          CUCUTA|  77359|\n",
            "+----------------+-------+\n",
            "\n"
          ]
        }
      ]
    },
    {
      "cell_type": "code",
      "source": [
        "# 3.2 Usando SparkSQL\n",
        "\n",
        "top_cities_sql = spark.sql(\"\"\"\n",
        "    SELECT nombre_municipio, COUNT(id_caso) AS total_casos\n",
        "    FROM covid_data\n",
        "    GROUP BY nombre_municipio\n",
        "    ORDER BY total_casos DESC\n",
        "    LIMIT 10\n",
        "\"\"\")\n",
        "top_cities_sql.show()\n"
      ],
      "metadata": {
        "colab": {
          "base_uri": "https://localhost:8080/"
        },
        "id": "ubZQHDe_SY0g",
        "outputId": "ed28d451-2939-4834-ab6c-c53e86f06d81"
      },
      "execution_count": 20,
      "outputs": [
        {
          "output_type": "stream",
          "name": "stdout",
          "text": [
            "+----------------+-----------+\n",
            "|nombre_municipio|total_casos|\n",
            "+----------------+-----------+\n",
            "|          BOGOTA|    1888137|\n",
            "|        MEDELLIN|     550790|\n",
            "|            CALI|     406751|\n",
            "|    BARRANQUILLA|     277989|\n",
            "|       CARTAGENA|     163526|\n",
            "|     BUCARAMANGA|     142842|\n",
            "|          IBAGUE|      91598|\n",
            "|     SANTA MARTA|      84863|\n",
            "|       MANIZALES|      84478|\n",
            "|          CUCUTA|      77359|\n",
            "+----------------+-----------+\n",
            "\n"
          ]
        }
      ]
    },
    {
      "cell_type": "code",
      "source": [
        "# 3.3 Usando Dataframe\n",
        "\n",
        "top_days_df = df_renamed.groupBy('fecha_reporte').count().orderBy(col('count').desc()).limit(10)\n",
        "top_days_df.show()\n"
      ],
      "metadata": {
        "colab": {
          "base_uri": "https://localhost:8080/"
        },
        "id": "k97ZBowQTalh",
        "outputId": "749939a0-02e4-40ed-8c64-fc2475fa3439"
      },
      "execution_count": 21,
      "outputs": [
        {
          "output_type": "stream",
          "name": "stdout",
          "text": [
            "+-------------------+-----+\n",
            "|      fecha_reporte|count|\n",
            "+-------------------+-----+\n",
            "|2022-01-15 00:00:00|35576|\n",
            "|2022-01-14 00:00:00|34924|\n",
            "|2021-06-26 00:00:00|33593|\n",
            "|2021-06-24 00:00:00|32997|\n",
            "|2021-06-25 00:00:00|32732|\n",
            "|2021-06-27 00:00:00|32377|\n",
            "|2022-01-16 00:00:00|32318|\n",
            "|2022-01-08 00:00:00|31170|\n",
            "|2022-01-21 00:00:00|31039|\n",
            "|2022-01-09 00:00:00|30630|\n",
            "+-------------------+-----+\n",
            "\n"
          ]
        }
      ]
    },
    {
      "cell_type": "code",
      "source": [
        "# 3.3 Usando SparkSQL\n",
        "\n",
        "top_days_sql = spark.sql(\"\"\"\n",
        "    SELECT fecha_reporte, COUNT(id_caso) AS total_casos\n",
        "    FROM covid_data\n",
        "    GROUP BY fecha_reporte\n",
        "    ORDER BY total_casos DESC\n",
        "    LIMIT 10\n",
        "\"\"\")\n",
        "top_days_sql.show()\n"
      ],
      "metadata": {
        "colab": {
          "base_uri": "https://localhost:8080/"
        },
        "id": "j-gssbbrUBVO",
        "outputId": "a1f5fcb4-f439-4b24-d4fe-ae8c141954d3"
      },
      "execution_count": 22,
      "outputs": [
        {
          "output_type": "stream",
          "name": "stdout",
          "text": [
            "+-------------------+-----------+\n",
            "|      fecha_reporte|total_casos|\n",
            "+-------------------+-----------+\n",
            "|2022-01-15 00:00:00|      35576|\n",
            "|2022-01-14 00:00:00|      34924|\n",
            "|2021-06-26 00:00:00|      33593|\n",
            "|2021-06-24 00:00:00|      32997|\n",
            "|2021-06-25 00:00:00|      32732|\n",
            "|2021-06-27 00:00:00|      32377|\n",
            "|2022-01-16 00:00:00|      32318|\n",
            "|2022-01-08 00:00:00|      31170|\n",
            "|2022-01-21 00:00:00|      31039|\n",
            "|2022-01-09 00:00:00|      30630|\n",
            "+-------------------+-----------+\n",
            "\n"
          ]
        }
      ]
    },
    {
      "cell_type": "code",
      "source": [
        "# 3.4 Usando Dataframe\n",
        "\n",
        "age_distribution_df = df_renamed.groupBy('Edad').count().orderBy(col('Edad'))\n",
        "age_distribution_df.show()\n"
      ],
      "metadata": {
        "colab": {
          "base_uri": "https://localhost:8080/"
        },
        "id": "eZ1q6KXhVwcX",
        "outputId": "ae7092ac-5e8d-4291-980c-ce62a072803f"
      },
      "execution_count": 23,
      "outputs": [
        {
          "output_type": "stream",
          "name": "stdout",
          "text": [
            "+----+-----+\n",
            "|Edad|count|\n",
            "+----+-----+\n",
            "|   1|33429|\n",
            "|   2|26207|\n",
            "|   3|24223|\n",
            "|   4|23905|\n",
            "|   5|24768|\n",
            "|   6|26380|\n",
            "|   7|26067|\n",
            "|   8|28717|\n",
            "|   9|30256|\n",
            "|  10|31768|\n",
            "|  11|34814|\n",
            "|  12|34208|\n",
            "|  13|36646|\n",
            "|  14|39774|\n",
            "|  15|43189|\n",
            "|  16|46546|\n",
            "|  17|52437|\n",
            "|  18|64310|\n",
            "|  19|80783|\n",
            "|  20|93686|\n",
            "+----+-----+\n",
            "only showing top 20 rows\n",
            "\n"
          ]
        }
      ]
    },
    {
      "cell_type": "code",
      "source": [
        "# 3.4 Usando SparkSQL\n",
        "\n",
        "age_distribution_sql = spark.sql(\"\"\"\n",
        "    SELECT Edad, COUNT(id_caso) AS total_casos\n",
        "    FROM covid_data\n",
        "    GROUP BY Edad\n",
        "    ORDER BY Edad\n",
        "\"\"\")\n",
        "age_distribution_sql.show()\n"
      ],
      "metadata": {
        "colab": {
          "base_uri": "https://localhost:8080/"
        },
        "id": "-249324_WKMl",
        "outputId": "497ad6b4-b23d-41f5-87d5-e0e1e160c1c1"
      },
      "execution_count": 24,
      "outputs": [
        {
          "output_type": "stream",
          "name": "stdout",
          "text": [
            "+----+-----------+\n",
            "|Edad|total_casos|\n",
            "+----+-----------+\n",
            "|   1|      33429|\n",
            "|   2|      26207|\n",
            "|   3|      24223|\n",
            "|   4|      23905|\n",
            "|   5|      24768|\n",
            "|   6|      26380|\n",
            "|   7|      26067|\n",
            "|   8|      28717|\n",
            "|   9|      30256|\n",
            "|  10|      31768|\n",
            "|  11|      34814|\n",
            "|  12|      34208|\n",
            "|  13|      36646|\n",
            "|  14|      39774|\n",
            "|  15|      43189|\n",
            "|  16|      46546|\n",
            "|  17|      52437|\n",
            "|  18|      64310|\n",
            "|  19|      80783|\n",
            "|  20|      93686|\n",
            "+----+-----------+\n",
            "only showing top 20 rows\n",
            "\n"
          ]
        }
      ]
    },
    {
      "cell_type": "code",
      "source": [
        "# 3.5 Usando Dataframe\n",
        "\n",
        "cases_by_sex_department_df = df_renamed.groupBy('nombre_departamento', 'Sexo').count().orderBy('nombre_departamento', 'Sexo')\n",
        "cases_by_sex_department_df.show()\n"
      ],
      "metadata": {
        "colab": {
          "base_uri": "https://localhost:8080/"
        },
        "id": "CX_EKWpeWdZz",
        "outputId": "58cdedbf-1f3d-428c-f00d-dc345ed8b397"
      },
      "execution_count": 25,
      "outputs": [
        {
          "output_type": "stream",
          "name": "stdout",
          "text": [
            "+-------------------+----+-------+\n",
            "|nombre_departamento|Sexo|  count|\n",
            "+-------------------+----+-------+\n",
            "|           AMAZONAS|   F|   3663|\n",
            "|           AMAZONAS|   M|   4216|\n",
            "|          ANTIOQUIA|   F| 512434|\n",
            "|          ANTIOQUIA|   M| 442837|\n",
            "|             ARAUCA|   F|   8527|\n",
            "|             ARAUCA|   M|   8860|\n",
            "|          ATLANTICO|   F|  74353|\n",
            "|          ATLANTICO|   M|  66719|\n",
            "|       BARRANQUILLA|   F| 148618|\n",
            "|       BARRANQUILLA|   M| 129371|\n",
            "|             BOGOTA|   F|1026812|\n",
            "|             BOGOTA|   M| 861313|\n",
            "|             BOGOTA|   f|      6|\n",
            "|             BOGOTA|   m|      6|\n",
            "|            BOLIVAR|   F|  22391|\n",
            "|            BOLIVAR|   M|  17945|\n",
            "|             BOYACA|   F|  68069|\n",
            "|             BOYACA|   M|  63064|\n",
            "|             CALDAS|   F|  64819|\n",
            "|             CALDAS|   M|  55210|\n",
            "+-------------------+----+-------+\n",
            "only showing top 20 rows\n",
            "\n"
          ]
        }
      ]
    },
    {
      "cell_type": "code",
      "source": [
        "# 3.5 Usando Dataframe\n",
        "\n",
        "cases_by_sex_department_sql = spark.sql(\"\"\"\n",
        "    SELECT nombre_departamento, Sexo, COUNT(id_caso) AS total_casos\n",
        "    FROM covid_data\n",
        "    GROUP BY nombre_departamento, Sexo\n",
        "    ORDER BY nombre_departamento, Sexo\n",
        "\"\"\")\n",
        "cases_by_sex_department_sql.show()\n"
      ],
      "metadata": {
        "colab": {
          "base_uri": "https://localhost:8080/"
        },
        "id": "UE8lXlGpZVgk",
        "outputId": "aefe9be0-65a6-438b-90af-3f7b3e3de851"
      },
      "execution_count": 26,
      "outputs": [
        {
          "output_type": "stream",
          "name": "stdout",
          "text": [
            "+-------------------+----+-----------+\n",
            "|nombre_departamento|Sexo|total_casos|\n",
            "+-------------------+----+-----------+\n",
            "|           AMAZONAS|   F|       3663|\n",
            "|           AMAZONAS|   M|       4216|\n",
            "|          ANTIOQUIA|   F|     512434|\n",
            "|          ANTIOQUIA|   M|     442837|\n",
            "|             ARAUCA|   F|       8527|\n",
            "|             ARAUCA|   M|       8860|\n",
            "|          ATLANTICO|   F|      74353|\n",
            "|          ATLANTICO|   M|      66719|\n",
            "|       BARRANQUILLA|   F|     148618|\n",
            "|       BARRANQUILLA|   M|     129371|\n",
            "|             BOGOTA|   F|    1026812|\n",
            "|             BOGOTA|   M|     861313|\n",
            "|             BOGOTA|   f|          6|\n",
            "|             BOGOTA|   m|          6|\n",
            "|            BOLIVAR|   F|      22391|\n",
            "|            BOLIVAR|   M|      17945|\n",
            "|             BOYACA|   F|      68069|\n",
            "|             BOYACA|   M|      63064|\n",
            "|             CALDAS|   F|      64819|\n",
            "|             CALDAS|   M|      55210|\n",
            "+-------------------+----+-----------+\n",
            "only showing top 20 rows\n",
            "\n"
          ]
        }
      ]
    },
    {
      "cell_type": "code",
      "source": [
        "top_departments_df.toPandas().to_csv('/content/top_10_departamentos.csv')"
      ],
      "metadata": {
        "id": "JZi30pMBbDu9"
      },
      "execution_count": 28,
      "outputs": []
    },
    {
      "cell_type": "code",
      "source": [
        "top_cities_df.toPandas().to_csv('/content/top_10_ciudades.csv')\n",
        "top_days_df.toPandas().to_csv('/content/top_10_dias.csv')\n",
        "age_distribution_df.toPandas().to_csv('/content/age_distribution.csv')\n",
        "cases_by_sex_department_df.toPandas().to_csv('/content/department_distribution.csv')"
      ],
      "metadata": {
        "id": "LIx-0I6gb8WL"
      },
      "execution_count": 30,
      "outputs": []
    },
    {
      "cell_type": "code",
      "source": [
        "!ls /content/*.csv\n"
      ],
      "metadata": {
        "colab": {
          "base_uri": "https://localhost:8080/"
        },
        "id": "GSp2bccdb49v",
        "outputId": "d6668ef8-1f45-437c-a911-fbf7288596f5"
      },
      "execution_count": 31,
      "outputs": [
        {
          "output_type": "stream",
          "name": "stdout",
          "text": [
            "/content/age_distribution.csv\t      /content/top_10_ciudades.csv\t /content/top_10_dias.csv\n",
            "/content/department_distribution.csv  /content/top_10_departamentos.csv\n"
          ]
        }
      ]
    },
    {
      "cell_type": "code",
      "source": [
        "files = [\"/content/age_distribution.csv\", \"/content/top_10_ciudades.csv\", \"/content/top_10_dias.csv\",\n",
        "         \"/content/department_distribution.csv\", \"/content/top_10_departamentos.csv\"]\n",
        "\n",
        "for file in files:\n",
        "  s3.Bucket(bucket_name).upload_file(file, bucket_path + file.split('/')[2])"
      ],
      "metadata": {
        "id": "-Yz18Kf3duNc"
      },
      "execution_count": 36,
      "outputs": []
    },
    {
      "cell_type": "code",
      "source": [],
      "metadata": {
        "id": "Evd7DPOodyIV"
      },
      "execution_count": null,
      "outputs": []
    }
  ]
}